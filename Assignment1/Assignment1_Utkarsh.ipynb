{
 "cells": [
  {
   "cell_type": "markdown",
   "metadata": {},
   "source": [
    "1. Write a function that inputs a number and prints the multiplication table of that number"
   ]
  },
  {
   "cell_type": "code",
   "execution_count": 1,
   "metadata": {},
   "outputs": [
    {
     "name": "stdout",
     "output_type": "stream",
     "text": [
      "enter number: 5\n",
      "multiplication table till? 10\n",
      "5 * 1 = 5\n",
      "5 * 2 = 10\n",
      "5 * 3 = 15\n",
      "5 * 4 = 20\n",
      "5 * 5 = 25\n",
      "5 * 6 = 30\n",
      "5 * 7 = 35\n",
      "5 * 8 = 40\n",
      "5 * 9 = 45\n",
      "5 * 10 = 50\n"
     ]
    }
   ],
   "source": [
    "def mult_table():  \n",
    "    n= int(input(\"enter number: \"))\n",
    "    m= int(input(\"multiplication table till? \"))\n",
    "    for i in range(1,m+1): \n",
    "        p=n * i       \n",
    "        print('{} * {} = {}'.format(n,i,p))\n",
    "  \n",
    "        \n",
    "mult_table()"
   ]
  },
  {
   "cell_type": "markdown",
   "metadata": {},
   "source": [
    "2. Write a program to print twin primes less than 1000. If two consecutive odd numbers are\n",
    "both prime then they are known as twin primes"
   ]
  },
  {
   "cell_type": "code",
   "execution_count": 2,
   "metadata": {},
   "outputs": [
    {
     "name": "stdout",
     "output_type": "stream",
     "text": [
      "[(1, 3), (3, 5), (5, 7), (11, 13), (17, 19), (29, 31), (41, 43), (59, 61), (71, 73), (101, 103), (107, 109), (137, 139), (149, 151), (179, 181), (191, 193), (197, 199), (227, 229), (239, 241), (269, 271), (281, 283), (311, 313), (347, 349), (419, 421), (431, 433), (461, 463), (521, 523), (569, 571), (599, 601), (617, 619), (641, 643), (659, 661), (809, 811), (821, 823), (827, 829), (857, 859), (881, 883)]\n"
     ]
    }
   ],
   "source": [
    "import math \n",
    "\n",
    "answer=[]\n",
    "\n",
    "for i in range(1,1000,2): \n",
    "    #store 2 consecutive odd numbers in a and b\n",
    "    a= i \n",
    "    b= i+2\n",
    "    c= 2\n",
    "    flag = 1\n",
    "    #check divisibility till square root of b \n",
    "    while c < math.sqrt(b+1): \n",
    "        if a % c == 0 or b % c == 0: \n",
    "            flag = 0\n",
    "            break \n",
    "        else: c+=1\n",
    "    # if both a and b are prime, add it to list    \n",
    "    if flag == 1: answer.append((a,b))\n",
    "\n",
    "print(answer) "
   ]
  },
  {
   "cell_type": "markdown",
   "metadata": {},
   "source": [
    "3. Write a program to find out the prime factors of a number. Example: prime factors of 56 -\n",
    "2, 2, 2, 7"
   ]
  },
  {
   "cell_type": "code",
   "execution_count": 4,
   "metadata": {},
   "outputs": [
    {
     "name": "stdout",
     "output_type": "stream",
     "text": [
      "enter number: 327\n",
      "[3, 109]\n"
     ]
    }
   ],
   "source": [
    "import math\n",
    "\n",
    "def is_prime(num): \n",
    "    '''function to check if number is prime'''\n",
    "    flag =1\n",
    "    for i in range(2,int(math.sqrt(num)+1)): \n",
    "        if num%i==0: flag =0\n",
    "    return flag    \n",
    "        \n",
    "n=int(input(\"enter number: \"))\n",
    "\n",
    "factor_list=[]\n",
    "#list of prime factors of n to be generated\n",
    "i=2\n",
    "while i <n+1 :\n",
    "    flag= is_prime(i)\n",
    "\n",
    "    if flag == 1: \n",
    "        if n%i==0: \n",
    "            #i is prime and divisible by n, then add to prime factors list\n",
    "            factor_list.append(i)            \n",
    "            n=n/i\n",
    "            #n replaced by the next smallest composite factor and process contiinued\n",
    "            i=2\n",
    "        else: i+=1\n",
    "    else: i+=1\n",
    "            \n",
    "        \n",
    "      \n",
    "print(factor_list)   "
   ]
  },
  {
   "cell_type": "markdown",
   "metadata": {},
   "source": [
    "4. Write a program to implement these formulae of permutations and combinations.\n",
    "Number of permutations of n objects taken r at a time: p(n, r) = n! / (n-r)!. Number of\n",
    "combinations of n objects taken r at a time is: c(n, r) = n! / (r!*(n-r)!) = p(n,r) / r"
   ]
  },
  {
   "cell_type": "code",
   "execution_count": 5,
   "metadata": {},
   "outputs": [
    {
     "name": "stdout",
     "output_type": "stream",
     "text": [
      "enter n: 5\n",
      "enter r:3\n",
      "permitations: 60.0, combinations: 10.0\n"
     ]
    }
   ],
   "source": [
    "n= int(input(\"enter n: \"))\n",
    "r= int(input(\"enter r:\" ))\n",
    "\n",
    "def fact(num):\n",
    "    '''function to compute factorial of number'''\n",
    "    if num ==1 or num ==0:\n",
    "        factorial= 1\n",
    "    else: factorial= num*fact(num-1)\n",
    "    return factorial \n",
    "\n",
    "perm = fact(n)/fact(n-r)\n",
    "comb = perm/ fact(r)\n",
    "\n",
    "print('permitations: {}, combinations: {}'.format(perm,comb))"
   ]
  },
  {
   "cell_type": "markdown",
   "metadata": {},
   "source": [
    "5. Write a function that converts a decimal number to binary number\n"
   ]
  },
  {
   "cell_type": "code",
   "execution_count": 16,
   "metadata": {},
   "outputs": [
    {
     "name": "stdout",
     "output_type": "stream",
     "text": [
      "decimal number: 10\n",
      "binary conversion: 1010\n"
     ]
    }
   ],
   "source": [
    "binary=\"\"\n",
    "\n",
    "n= int(input(\"decimal number: \"))\n",
    "\n",
    "q=n\n",
    "r=0 \n",
    "\n",
    "while q>0: \n",
    "    #calculating floor(quotient) and remainder on division by 2\n",
    "    r= q%2\n",
    "    q= q//2\n",
    "    #remainder added to binary string\n",
    "    binary+=str(r)\n",
    "\n",
    "#print the string of remainders \n",
    "print('binary conversion: {}'.format(binary[::-1])) \n"
   ]
  },
  {
   "cell_type": "markdown",
   "metadata": {},
   "source": [
    "6. Write a function cubesum() that accepts an integer and returns the sum of the cubes of\n",
    "individual digits of that number. Use this function to make functions PrintArmstrong() and\n",
    "isArmstrong() to print Armstrong numbers and to find whether is an Armstrong number."
   ]
  },
  {
   "cell_type": "code",
   "execution_count": 25,
   "metadata": {},
   "outputs": [
    {
     "name": "stdout",
     "output_type": "stream",
     "text": [
      "armstrong numbers less than: 1000\n",
      "armstrong numbers less than 1000 are [0, 1, 153, 370, 371, 407]\n"
     ]
    }
   ],
   "source": [
    "def cubesum (num): \n",
    "    n = str(num)\n",
    "    s =0 \n",
    "    for i in range(len(n)):\n",
    "        s= s + pow(int(n[i]),3)\n",
    "    return s\n",
    "\n",
    "\n",
    "\n",
    "#print('cubesum = {}'.format(s))\n",
    "\n",
    "def is_Armstrong(num): \n",
    "    s = cubesum(num)\n",
    "    if s==num:\n",
    "        return 1 \n",
    "    else: return 0\n",
    "\n",
    "\n",
    "#print(is_Armstrong(num))    \n",
    "\n",
    "def print_Armstrong(n): \n",
    "    armstrong_numbers = []\n",
    "    for i in range (n): \n",
    "        if is_Armstrong(i) ==1: \n",
    "            armstrong_numbers.append(i)\n",
    "    print('armstrong numbers less than {} are {}'.format(n,armstrong_numbers))\n",
    "            \n",
    "n = int(input(\"armstrong numbers less than: \"))\n",
    "print_Armstrong(n)"
   ]
  },
  {
   "cell_type": "markdown",
   "metadata": {},
   "source": [
    "7. Write a function prodDigits() that inputs a number and returns the product of digits of that\n",
    "number."
   ]
  },
  {
   "cell_type": "code",
   "execution_count": 27,
   "metadata": {},
   "outputs": [
    {
     "name": "stdout",
     "output_type": "stream",
     "text": [
      "enter number: 1023\n",
      "product of digits of number is 0\n"
     ]
    }
   ],
   "source": [
    "num = int(input(\"enter number: \"))\n",
    "\n",
    "num_str = str(num)\n",
    "product = 1\n",
    "for i in range(len(num_str)): \n",
    "    product = product * int(num_str[i])\n",
    "    \n",
    "print('product of digits of number is {}'.format(product))"
   ]
  },
  {
   "cell_type": "markdown",
   "metadata": {},
   "source": [
    "8. If all digits of a number n are multiplied by each other repeating with the product, the one\n",
    "digit number obtained at last is called the multiplicative digital root of n. The number of\n",
    "times digits need to be multiplied to reach one digit is called the multiplicative\n",
    "persistance of n.\n",
    "Example: 86 -> 48 -> 32 -> 6 (MDR 6, MPersistence 3)\n",
    " 341 -> 12->2 (MDR 2, MPersistence 2)\n",
    "Using the function prodDigits() of previous exercise write functions MDR() and\n",
    "MPersistence() that input a number and return its multiplicative digital root and\n",
    "multiplicative persistence respectively"
   ]
  },
  {
   "cell_type": "code",
   "execution_count": 29,
   "metadata": {},
   "outputs": [
    {
     "name": "stdout",
     "output_type": "stream",
     "text": [
      "enter number: 86\n",
      "MDR: 6, MPersistence: 3\n"
     ]
    }
   ],
   "source": [
    "\n",
    "num = int(input(\"enter number: \"))\n",
    "\n",
    "def prod_digits(num):\n",
    "    num_str = str(num)\n",
    "    product = 1\n",
    "    for i in range(len(num_str)): \n",
    "        product = product * int(num_str[i])\n",
    "    return (product)\n",
    "\n",
    "def MDR_MPersistence(num): \n",
    "    i =0\n",
    "    while num >9: \n",
    "        num = prod_digits(num)\n",
    "        i += 1\n",
    "    return (num, i)\n",
    "\n",
    "MDR, MPersistence = MDR_MPersistence(num)\n",
    "\n",
    "print ('MDR: {}, MPersistence: {}'.format(MDR,MPersistence))"
   ]
  },
  {
   "cell_type": "markdown",
   "metadata": {},
   "source": [
    "9. Write a function sumPdivisors() that finds the sum of proper divisors of a number. Proper\n",
    "divisors of a number are those numbers by which the number is divisible, except the\n",
    "number itself. For example proper divisors of 36 are 1, 2, 3, 4, 6, 9, 12, 18"
   ]
  },
  {
   "cell_type": "code",
   "execution_count": 31,
   "metadata": {},
   "outputs": [
    {
     "name": "stdout",
     "output_type": "stream",
     "text": [
      "enter number: 36\n",
      "1\n",
      "2\n",
      "3\n",
      "4\n",
      "6\n",
      "9\n",
      "12\n",
      "18\n",
      "sum of proper divisors of 36 is 55\n"
     ]
    }
   ],
   "source": [
    "num= int(input(\"enter number: \"))\n",
    "sum = 0 \n",
    "\n",
    "for i in range(1,num):   \n",
    "    if (num%i==0): \n",
    "        #print(i)\n",
    "        sum +=i \n",
    "\n",
    "print('sum of proper divisors of {} is {}'.format(num, sum))"
   ]
  },
  {
   "cell_type": "markdown",
   "metadata": {},
   "source": [
    "10. A number is called perfect if the sum of proper divisors of that number is equal to the\n",
    "number. For example 28 is perfect number, since 1+2+4+7+14=28. Write a program to\n",
    "print all the perfect numbers in a given range"
   ]
  },
  {
   "cell_type": "code",
   "execution_count": 33,
   "metadata": {},
   "outputs": [
    {
     "name": "stdout",
     "output_type": "stream",
     "text": [
      "range start: 1\n",
      "range end: 50\n",
      "Perfect numbers in range 1 to 50 is [6, 28]\n"
     ]
    }
   ],
   "source": [
    "\n",
    "n= int(input('range start: '))\n",
    "m= int(input('range end: '))\n",
    "\n",
    "def factor_sum(num): \n",
    "    sum = 0 \n",
    "    for i in range(1,num):   \n",
    "        if (num%i==0): sum +=i \n",
    "    return sum\n",
    "\n",
    "perfect_number =[]\n",
    "for i in range(n,m+1): \n",
    "    if i == factor_sum(i): \n",
    "        perfect_number.append(i)\n",
    "        \n",
    "print('Perfect numbers in range {} to {} is {}'. format(n,m,perfect_number))\n"
   ]
  },
  {
   "cell_type": "markdown",
   "metadata": {},
   "source": [
    "11. Two different numbers are called amicable numbers if the sum of the proper divisors of\n",
    "each is equal to the other number. For example 220 and 284 are amicable numbers.\n",
    "Sum of proper divisors of 220 = 1+2+4+5+10+11+20+22+44+55+110 = 284\n",
    "Sum of proper divisors of 284 = 1+2+4+71+142 = 220\n",
    "Write a function to print pairs of amicable numbers in a range"
   ]
  },
  {
   "cell_type": "code",
   "execution_count": 37,
   "metadata": {},
   "outputs": [
    {
     "name": "stdout",
     "output_type": "stream",
     "text": [
      "range start: 1\n",
      "range end: 1000\n",
      "Amicable Pairs in range 1 to 1000 are [(220, 284)]\n"
     ]
    }
   ],
   "source": [
    "\n",
    "def factor_sum(num): \n",
    "    sum = 0 \n",
    "    for i in range(1,num):   \n",
    "        if (num%i==0): sum +=i \n",
    "    return sum\n",
    "\n",
    "n= int(input('range start: '))\n",
    "m= int(input('range end: '))\n",
    "\n",
    "factor_sums =[]\n",
    "\n",
    "for i in range(n,m+1): \n",
    "    factor_sums.append(factor_sum(i))\n",
    "    \n",
    "amicable_pairs = []\n",
    "\n",
    "for i in range(n, m+1): \n",
    "    j=i+1\n",
    "    while j< factor_sum(i)+1: \n",
    "        if i==factor_sum(j) and j== factor_sum(i) and i!=j : \n",
    "            amicable_pairs.append((i,j))\n",
    "        j+=1\n",
    "\n",
    "if len (amicable_pairs)==0:\n",
    "    print('No amicable pairs in this range')\n",
    "else:\n",
    "    print('Amicable Pairs in range {} to {} are {}'.format(n,m, amicable_pairs))"
   ]
  },
  {
   "cell_type": "markdown",
   "metadata": {},
   "source": [
    "12. Write a program which can filter odd numbers in a list by using filter function"
   ]
  },
  {
   "cell_type": "code",
   "execution_count": 40,
   "metadata": {},
   "outputs": [
    {
     "name": "stdout",
     "output_type": "stream",
     "text": [
      "length of list: 5\n",
      "enter values: \n",
      "\n",
      "1\n",
      "2\n",
      "3\n",
      "4\n",
      "5\n",
      "[1, 3, 5]\n"
     ]
    }
   ],
   "source": [
    "array= []\n",
    "n= int(input(\"length of list: \"))\n",
    "\n",
    "print('enter values: ')\n",
    "for i in range(n): \n",
    "    array.append(int(input()))\n",
    "\n",
    "def filter_odd(num): \n",
    "    if num%2== 0:\n",
    "        return False \n",
    "    else: \n",
    "        return True\n",
    "    \n",
    "\n",
    "    \n",
    "filtered_array= list(filter(filter_odd, array))\n",
    "\n",
    "print(filtered_array)"
   ]
  },
  {
   "cell_type": "markdown",
   "metadata": {},
   "source": [
    "13. Write a program which can map() to make a list whose elements are cube of elements in\n",
    "a given list"
   ]
  },
  {
   "cell_type": "code",
   "execution_count": 41,
   "metadata": {},
   "outputs": [
    {
     "name": "stdout",
     "output_type": "stream",
     "text": [
      "length of list: 5\n",
      "1\n",
      "2\n",
      "3\n",
      "4\n",
      "5\n",
      "[1, 8, 27, 64, 125]\n"
     ]
    }
   ],
   "source": [
    "num = int(input('length of list: '))\n",
    "array=[]\n",
    "for i in range(num):\n",
    "    m = int (input())\n",
    "    array.append(m)\n",
    "\n",
    "result= map(lambda x: x*x*x, array)\n",
    "print(list(result))\n",
    "    "
   ]
  },
  {
   "cell_type": "markdown",
   "metadata": {},
   "source": [
    "14. Write a program which can map() and filter() to make a list whose elements are cube of\n",
    "even number in a given list"
   ]
  },
  {
   "cell_type": "code",
   "execution_count": 42,
   "metadata": {
    "scrolled": true
   },
   "outputs": [
    {
     "name": "stdout",
     "output_type": "stream",
     "text": [
      "length of list: 5\n",
      "1\n",
      "2\n",
      "3\n",
      "4\n",
      "5\n",
      "[8, 64]\n"
     ]
    }
   ],
   "source": [
    "num = int(input('length of list: '))\n",
    "array=[]\n",
    "for i in range(num):\n",
    "    m = int (input())\n",
    "    array.append(m)\n",
    "\n",
    "    \n",
    "def filter_even(num): \n",
    "    if num%2== 0:\n",
    "        return True \n",
    "    else: \n",
    "        return False\n",
    "    \n",
    "\n",
    "filtered_array= list(filter(filter_even, array))\n",
    "\n",
    "\n",
    "result= map(lambda x: x*x*x, filtered_array)\n",
    "print(list(result))\n",
    "    "
   ]
  },
  {
   "cell_type": "code",
   "execution_count": null,
   "metadata": {},
   "outputs": [],
   "source": []
  }
 ],
 "metadata": {
  "kernelspec": {
   "display_name": "Python 3",
   "language": "python",
   "name": "python3"
  },
  "language_info": {
   "codemirror_mode": {
    "name": "ipython",
    "version": 3
   },
   "file_extension": ".py",
   "mimetype": "text/x-python",
   "name": "python",
   "nbconvert_exporter": "python",
   "pygments_lexer": "ipython3",
   "version": "3.6.5"
  }
 },
 "nbformat": 4,
 "nbformat_minor": 2
}
